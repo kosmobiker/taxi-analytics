{
 "cells": [
  {
   "cell_type": "markdown",
   "id": "4ffadc64",
   "metadata": {},
   "source": [
    "# Setting up JupyterLab Environment with UV\n",
    "\n",
    "This notebook guides through setting up an isolated Python environment using UV package manager for the NYC Taxi Analytics project. We'll be using Python 3.11 (not 3.13, as pyarrow is not compatible with 3.13) for fast and efficient package management."
   ]
  },
  {
   "cell_type": "markdown",
   "id": "74f5f2cf",
   "metadata": {},
   "source": [
    "## 1. Setting up Virtual Environment\n",
    "\n",
    "We'll create a new virtual environment using UV with the existing Python 3.11 installation. Run these commands in your terminal:\n",
    "\n",
    "```bash\n",
    "# Install UV if not already installed\n",
    "pip install uv\n",
    "\n",
    "# Create a new virtual environment with specific Python version\n",
    "uv venv --python=cpython-3.11.6-windows-x86_64-none\n",
    "\n",
    "# Activate the environment (Windows PowerShell)\n",
    ".venv/Scripts/Activate.ps1\n",
    "```\n",
    "\n",
    "Note: For Unix-based systems, use `.venv/bin/activate` instead."
   ]
  },
  {
   "cell_type": "markdown",
   "id": "b316d241",
   "metadata": {},
   "source": [
    "## 2. Installing JupyterLab and Dependencies\n",
    "\n",
    "After activating the environment, install JupyterLab and required packages using UV:\n",
    "\n",
    "```bash\n",
    "# Install packages using uv (faster than pip)\n",
    "uv pip install -r requirements.txt\n",
    "\n",
    "# Verify installation\n",
    "uv pip list\n",
    "```\n",
    "\n",
    "This will install:\n",
    "- JupyterLab for interactive development\n",
    "- Data processing: pandas, polars, numpy\n",
    "- Visualization: plotly, matplotlib, seaborn\n",
    "- Geospatial analysis: geopandas, folium\n",
    "- Performance monitoring: psutil, memory_profiler"
   ]
  },
  {
   "cell_type": "markdown",
   "id": "85daedd5",
   "metadata": {},
   "source": [
    "## 3. Creating Environment Kernel\n",
    "\n",
    "Create a dedicated Jupyter kernel for this environment:\n",
    "\n",
    "```bash\n",
    "# Install ipykernel\n",
    "uv pip install ipykernel\n",
    "\n",
    "# Create a new kernel\n",
    "python -m ipykernel install --user --name taxi-analytics --display-name \"Python (Taxi Analytics)\"\n",
    "```\n",
    "\n",
    "This creates a new kernel that will be available in JupyterLab."
   ]
  },
  {
   "cell_type": "markdown",
   "id": "ed7b18ce",
   "metadata": {},
   "source": [
    "## 4. Testing Environment Setup\n",
    "\n",
    "Let's verify our environment setup by importing key packages and checking their versions:"
   ]
  },
  {
   "cell_type": "code",
   "execution_count": 1,
   "id": "1a2c0834",
   "metadata": {},
   "outputs": [
    {
     "name": "stdout",
     "output_type": "stream",
     "text": [
      "Python version: 3.11.6 (main, Oct  2 2023, 23:36:41) [MSC v.1929 64 bit (AMD64)]\n",
      "\n",
      "Package versions:\n",
      "Pandas: 2.2.1\n",
      "Polars: 0.20.15\n",
      "NumPy: 1.26.4\n",
      "Plotly: 5.19.0\n",
      "\n",
      "System Memory:\n",
      "Available: 3.01 GB\n",
      "Total: 15.12 GB\n"
     ]
    }
   ],
   "source": [
    "import sys\n",
    "import pandas as pd\n",
    "import polars as pl\n",
    "import numpy as np\n",
    "import plotly\n",
    "import psutil\n",
    "\n",
    "# Verify Python version\n",
    "print(f\"Python version: {sys.version}\")\n",
    "print(f\"\\nPackage versions:\")\n",
    "print(f\"Pandas: {pd.__version__}\")\n",
    "print(f\"Polars: {pl.__version__}\")\n",
    "print(f\"NumPy: {np.__version__}\")\n",
    "print(f\"Plotly: {plotly.__version__}\")\n",
    "\n",
    "# Check available memory\n",
    "memory = psutil.virtual_memory()\n",
    "print(f\"\\nSystem Memory:\")\n",
    "print(f\"Available: {memory.available / (1024 ** 3):.2f} GB\")\n",
    "print(f\"Total: {memory.total / (1024 ** 3):.2f} GB\")"
   ]
  },
  {
   "cell_type": "code",
   "execution_count": 2,
   "id": "fe425d31",
   "metadata": {},
   "outputs": [
    {
     "name": "stdout",
     "output_type": "stream",
     "text": [
      "Kernel specs location:\n",
      "C:\\Users\\Vlad\\AppData\\Roaming\\jupyter\n",
      "\n",
      "Available kernels:\n",
      "python3: c:\\Users\\Vlad\\taxi-analytics\\notebooks\\.venv\\share\\jupyter\\kernels\\python3\n",
      "taxi-analytics: C:\\Users\\Vlad\\AppData\\Roaming\\jupyter\\kernels\\taxi-analytics\n"
     ]
    }
   ],
   "source": [
    "import jupyter_client\n",
    "\n",
    "# Print kernel specifications path\n",
    "print(\"Kernel specs location:\")\n",
    "print(jupyter_client.kernelspec.jupyter_data_dir())\n",
    "\n",
    "# List available kernels\n",
    "print(\"\\nAvailable kernels:\")\n",
    "for name, info in jupyter_client.kernelspec.find_kernel_specs().items():\n",
    "    print(f\"{name}: {info}\")"
   ]
  },
  {
   "cell_type": "code",
   "execution_count": null,
   "id": "e18284d8",
   "metadata": {},
   "outputs": [],
   "source": []
  }
 ],
 "metadata": {
  "kernelspec": {
   "display_name": "Python (Taxi Analytics)",
   "language": "python",
   "name": "taxi-analytics"
  },
  "language_info": {
   "codemirror_mode": {
    "name": "ipython",
    "version": 3
   },
   "file_extension": ".py",
   "mimetype": "text/x-python",
   "name": "python",
   "nbconvert_exporter": "python",
   "pygments_lexer": "ipython3",
   "version": "3.11.6"
  }
 },
 "nbformat": 4,
 "nbformat_minor": 5
}
